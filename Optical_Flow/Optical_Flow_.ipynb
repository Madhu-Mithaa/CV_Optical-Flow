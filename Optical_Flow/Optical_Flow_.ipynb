{
  "nbformat": 4,
  "nbformat_minor": 0,
  "metadata": {
    "colab": {
      "name": "Optical Flow .ipynb",
      "provenance": []
    },
    "kernelspec": {
      "name": "python3",
      "display_name": "Python 3"
    },
    "language_info": {
      "name": "python"
    }
  },
  "cells": [
    {
      "cell_type": "code",
      "source": [
        "from google.colab import drive\n",
        "drive.mount('/content/drive')"
      ],
      "metadata": {
        "colab": {
          "base_uri": "https://localhost:8080/"
        },
        "id": "eprZSRfOQU9i",
        "outputId": "f574a224-6323-4479-8409-0172117ccbe2"
      },
      "execution_count": null,
      "outputs": [
        {
          "output_type": "stream",
          "name": "stdout",
          "text": [
            "Drive already mounted at /content/drive; to attempt to forcibly remount, call drive.mount(\"/content/drive\", force_remount=True).\n"
          ]
        }
      ]
    },
    {
      "cell_type": "markdown",
      "source": [
        "# **Dense Optical Flow**"
      ],
      "metadata": {
        "id": "wPlzaz8aP-uM"
      }
    },
    {
      "cell_type": "markdown",
      "source": [
        " **MEDIUM SPEED VIDEO**"
      ],
      "metadata": {
        "id": "Nr-nyTjX212R"
      }
    },
    {
      "cell_type": "code",
      "execution_count": null,
      "metadata": {
        "id": "FjET1Y0wP7Eb"
      },
      "outputs": [],
      "source": [
        "import cv2 as cv\n",
        "import numpy as np\n",
        "from google.colab.patches import cv2_imshow\n",
        "\n",
        "# The video feed is read in as\n",
        "# a VideoCapture object\n",
        "cap = cv.VideoCapture(\"/content/drive/MyDrive/CV Lab Optical Flow/Road Traffic - Noisy Image/NORMAL.mp4\")\n",
        "\n",
        "# ret = a boolean return value from\n",
        "# getting the frame, first_frame = the\n",
        "# first frame in the entire video sequence\n",
        "ret, first_frame = cap.read()\n",
        "\n",
        "# Converts frame to grayscale because we\n",
        "# only need the luminance channel for\n",
        "# detecting edges - less computationally\n",
        "# expensive\n",
        "prev_gray = cv.cvtColor(first_frame, cv.COLOR_BGR2GRAY)\n",
        "\n",
        "# Creates an image filled with zero\n",
        "# intensities with the same dimensions\n",
        "# as the frame\n",
        "mask = np.zeros_like(first_frame)\n",
        "\n",
        "# Sets image saturation to maximum\n",
        "mask[..., 1] = 255\n",
        "\n",
        "while(cap.isOpened()):\n",
        "\t\n",
        "\t# ret = a boolean return value from getting\n",
        "\t# the frame, frame = the current frame being\n",
        "\t# projected in the video\n",
        "\tret, frame = cap.read()\n",
        "\t\n",
        "\t# Opens a new window and displays the input\n",
        "\t# frame\n",
        "\tcv2_imshow(frame)\n",
        "\t\n",
        "\t# Converts each frame to grayscale - we previously\n",
        "\t# only converted the first frame to grayscale\n",
        "\tgray = cv.cvtColor(frame, cv.COLOR_BGR2GRAY)\n",
        "\t\n",
        "\t# Calculates dense optical flow by Farneback method\n",
        "\tflow = cv.calcOpticalFlowFarneback(prev_gray, gray,\n",
        "\t\t\t\t\t\t\t\t\tNone,\n",
        "\t\t\t\t\t\t\t\t\t0.5, 3, 15, 3, 5, 1.2, 0)\n",
        "\t\n",
        "\t# Computes the magnitude and angle of the 2D vectors\n",
        "\tmagnitude, angle = cv.cartToPolar(flow[..., 0], flow[..., 1])\n",
        "\t\n",
        "\t# Sets image hue according to the optical flow\n",
        "\t# direction\n",
        "\tmask[..., 0] = angle * 180 / np.pi / 2\n",
        "\t\n",
        "\t# Sets image value according to the optical flow\n",
        "\t# magnitude (normalized)\n",
        "\tmask[..., 2] = cv.normalize(magnitude, None, 0, 255, cv.NORM_MINMAX)\n",
        "\t\n",
        "\t# Converts HSV to RGB (BGR) color representation\n",
        "\trgb = cv.cvtColor(mask, cv.COLOR_HSV2BGR)\n",
        "\t\n",
        "\t# Opens a new window and displays the output frame\n",
        "\tcv2_imshow(rgb)\n",
        "\t\n",
        "\t# Updates previous frame\n",
        "\tprev_gray = gray\n",
        "\t\n",
        "\t# Frames are read by intervals of 1 millisecond. The\n",
        "\t# programs breaks out of the while loop when the\n",
        "\t# user presses the 'q' key\n",
        "\tif cv.waitKey(1) & 0xFF == ord('q'):\n",
        "\t\tbreak\n",
        "\n",
        "# The following frees up resources and\n",
        "# closes all windows\n",
        "cap.release()\n",
        "cv.destroyAllWindows()\n"
      ]
    },
    {
      "cell_type": "markdown",
      "source": [
        "**SLOW SPEED VIDEO**"
      ],
      "metadata": {
        "id": "xOyhY2qa29ko"
      }
    },
    {
      "cell_type": "code",
      "source": [
        "import cv2 as cv\n",
        "import numpy as np\n",
        "from google.colab.patches import cv2_imshow\n",
        "\n",
        "# The video feed is read in as\n",
        "# a VideoCapture object\n",
        "cap = cv.VideoCapture(\"/content/drive/MyDrive/CV Lab Optical Flow/Road Traffic - Noisy Image/SLOW.mp4\")\n",
        "\n",
        "# ret = a boolean return value from\n",
        "# getting the frame, first_frame = the\n",
        "# first frame in the entire video sequence\n",
        "ret, first_frame = cap.read()\n",
        "\n",
        "# Converts frame to grayscale because we\n",
        "# only need the luminance channel for\n",
        "# detecting edges - less computationally\n",
        "# expensive\n",
        "prev_gray = cv.cvtColor(first_frame, cv.COLOR_BGR2GRAY)\n",
        "\n",
        "# Creates an image filled with zero\n",
        "# intensities with the same dimensions\n",
        "# as the frame\n",
        "mask = np.zeros_like(first_frame)\n",
        "\n",
        "# Sets image saturation to maximum\n",
        "mask[..., 1] = 255\n",
        "\n",
        "while(cap.isOpened()):\n",
        "\t\n",
        "\t# ret = a boolean return value from getting\n",
        "\t# the frame, frame = the current frame being\n",
        "\t# projected in the video\n",
        "\tret, frame = cap.read()\n",
        "\t\n",
        "\t# Opens a new window and displays the input\n",
        "\t# frame\n",
        "\tcv2_imshow(frame)\n",
        "\t\n",
        "\t# Converts each frame to grayscale - we previously\n",
        "\t# only converted the first frame to grayscale\n",
        "\tgray = cv.cvtColor(frame, cv.COLOR_BGR2GRAY)\n",
        "\t\n",
        "\t# Calculates dense optical flow by Farneback method\n",
        "\tflow = cv.calcOpticalFlowFarneback(prev_gray, gray,\n",
        "\t\t\t\t\t\t\t\t\tNone,\n",
        "\t\t\t\t\t\t\t\t\t0.5, 3, 15, 3, 5, 1.2, 0)\n",
        "\t\n",
        "\t# Computes the magnitude and angle of the 2D vectors\n",
        "\tmagnitude, angle = cv.cartToPolar(flow[..., 0], flow[..., 1])\n",
        "\t\n",
        "\t# Sets image hue according to the optical flow\n",
        "\t# direction\n",
        "\tmask[..., 0] = angle * 180 / np.pi / 2\n",
        "\t\n",
        "\t# Sets image value according to the optical flow\n",
        "\t# magnitude (normalized)\n",
        "\tmask[..., 2] = cv.normalize(magnitude, None, 0, 255, cv.NORM_MINMAX)\n",
        "\t\n",
        "\t# Converts HSV to RGB (BGR) color representation\n",
        "\trgb = cv.cvtColor(mask, cv.COLOR_HSV2BGR)\n",
        "\t\n",
        "\t# Opens a new window and displays the output frame\n",
        "\tcv2_imshow(rgb)\n",
        "\t\n",
        "\t# Updates previous frame\n",
        "\tprev_gray = gray\n",
        "\t\n",
        "\t# Frames are read by intervals of 1 millisecond. The\n",
        "\t# programs breaks out of the while loop when the\n",
        "\t# user presses the 'q' key\n",
        "\tif cv.waitKey(1) & 0xFF == ord('q'):\n",
        "\t\tbreak\n",
        "\n",
        "# The following frees up resources and\n",
        "# closes all windows\n",
        "cap.release()\n",
        "cv.destroyAllWindows()"
      ],
      "metadata": {
        "id": "vuopkYDj20HI"
      },
      "execution_count": null,
      "outputs": []
    },
    {
      "cell_type": "markdown",
      "source": [
        "**FAST SPEED VIDEO**"
      ],
      "metadata": {
        "id": "LMkGL_bY3Gxx"
      }
    },
    {
      "cell_type": "code",
      "source": [
        "import cv2 as cv\n",
        "import numpy as np\n",
        "from google.colab.patches import cv2_imshow\n",
        "\n",
        "# The video feed is read in as\n",
        "# a VideoCapture object\n",
        "cap = cv.VideoCapture(\"/content/drive/MyDrive/CV Lab Optical Flow/FAST.mp4\")\n",
        "\n",
        "# ret = a boolean return value from\n",
        "# getting the frame, first_frame = the\n",
        "# first frame in the entire video sequence\n",
        "ret, first_frame = cap.read()\n",
        "\n",
        "# Converts frame to grayscale because we\n",
        "# only need the luminance channel for\n",
        "# detecting edges - less computationally\n",
        "# expensive\n",
        "prev_gray = cv.cvtColor(first_frame, cv.COLOR_BGR2GRAY)\n",
        "\n",
        "# Creates an image filled with zero\n",
        "# intensities with the same dimensions\n",
        "# as the frame\n",
        "mask = np.zeros_like(first_frame)\n",
        "\n",
        "# Sets image saturation to maximum\n",
        "mask[..., 1] = 255\n",
        "\n",
        "while(cap.isOpened()):\n",
        "\t\n",
        "\t# ret = a boolean return value from getting\n",
        "\t# the frame, frame = the current frame being\n",
        "\t# projected in the video\n",
        "\tret, frame = cap.read()\n",
        "\t\n",
        "\t# Opens a new window and displays the input\n",
        "\t# frame\n",
        "\tcv2_imshow(frame)\n",
        "\t\n",
        "\t# Converts each frame to grayscale - we previously\n",
        "\t# only converted the first frame to grayscale\n",
        "\tgray = cv.cvtColor(frame, cv.COLOR_BGR2GRAY)\n",
        "\t\n",
        "\t# Calculates dense optical flow by Farneback method\n",
        "\tflow = cv.calcOpticalFlowFarneback(prev_gray, gray,\n",
        "\t\t\t\t\t\t\t\t\tNone,\n",
        "\t\t\t\t\t\t\t\t\t0.5, 3, 15, 3, 5, 1.2, 0)\n",
        "\t\n",
        "\t# Computes the magnitude and angle of the 2D vectors\n",
        "\tmagnitude, angle = cv.cartToPolar(flow[..., 0], flow[..., 1])\n",
        "\t\n",
        "\t# Sets image hue according to the optical flow\n",
        "\t# direction\n",
        "\tmask[..., 0] = angle * 180 / np.pi / 2\n",
        "\t\n",
        "\t# Sets image value according to the optical flow\n",
        "\t# magnitude (normalized)\n",
        "\tmask[..., 2] = cv.normalize(magnitude, None, 0, 255, cv.NORM_MINMAX)\n",
        "\t\n",
        "\t# Converts HSV to RGB (BGR) color representation\n",
        "\trgb = cv.cvtColor(mask, cv.COLOR_HSV2BGR)\n",
        "\t\n",
        "\t# Opens a new window and displays the output frame\n",
        "\tcv2_imshow(rgb)\n",
        "\t\n",
        "\t# Updates previous frame\n",
        "\tprev_gray = gray\n",
        "\t\n",
        "\t# Frames are read by intervals of 1 millisecond. The\n",
        "\t# programs breaks out of the while loop when the\n",
        "\t# user presses the 'q' key\n",
        "\tif cv.waitKey(1) & 0xFF == ord('q'):\n",
        "\t\tbreak\n",
        "\n",
        "# The following frees up resources and\n",
        "# closes all windows\n",
        "cap.release()\n",
        "cv.destroyAllWindows()"
      ],
      "metadata": {
        "id": "xIw1O3ru3Ff7"
      },
      "execution_count": null,
      "outputs": []
    },
    {
      "cell_type": "markdown",
      "source": [
        "# **Lucas - Kanade**"
      ],
      "metadata": {
        "id": "lMhDYU1RQFTo"
      }
    },
    {
      "cell_type": "markdown",
      "source": [
        "**Medium**"
      ],
      "metadata": {
        "id": "82KyrLAf5xrU"
      }
    },
    {
      "cell_type": "code",
      "source": [
        "import cv2 as cv2\n",
        "import numpy as np\n",
        "from google.colab.patches import cv2_imshow\n",
        "\n",
        "cap = cv2.VideoCapture('/content/drive/MyDrive/CVLabOpticalFlow/RoadTrafficNoisyImage/NORMAL.mp4')\n",
        "\n",
        "# params for corner detection\n",
        "feature_params = dict( maxCorners = 100,\n",
        "\t\t\t\t\tqualityLevel = 0.3,\n",
        "\t\t\t\t\tminDistance = 7,\n",
        "\t\t\t\t\tblockSize = 7 )\n",
        "\n",
        "# Parameters for lucas kanade optical flow\n",
        "lk_params = dict( winSize = (15, 15),\n",
        "\t\t\t\tmaxLevel = 2,\n",
        "\t\t\t\tcriteria = (cv2.TERM_CRITERIA_EPS | cv2.TERM_CRITERIA_COUNT,\n",
        "\t\t\t\t\t\t\t10, 0.03))\n",
        "\n",
        "# Create some random colors\n",
        "color = np.random.randint(0, 255, (100, 3))\n",
        "\n",
        "# Take first frame and find corners in it\n",
        "ret, old_frame = cap.read()\n",
        "old_gray = cv2.cvtColor(old_frame,\n",
        "\t\t\t\t\t\tcv2.COLOR_BGR2GRAY)\n",
        "p0 = cv2.goodFeaturesToTrack(old_gray, mask = None,\n",
        "\t\t\t\t\t\t\t**feature_params)\n",
        "\n",
        "# Create a mask image for drawing purposes\n",
        "mask = np.zeros_like(old_frame)\n",
        "\n",
        "while(1):\n",
        "\t\n",
        "\tret, frame = cap.read()\n",
        "\tframe_gray = cv2.cvtColor(frame,\n",
        "\t\t\t\t\t\t\tcv2.COLOR_BGR2GRAY)\n",
        "\n",
        "\t# calculate optical flow\n",
        "\tp1, st, err = cv2.calcOpticalFlowPyrLK(old_gray,\n",
        "\t\t\t\t\t\t\t\t\t\tframe_gray,\n",
        "\t\t\t\t\t\t\t\t\t\tp0, None,\n",
        "\t\t\t\t\t\t\t\t\t\t**lk_params)\n",
        "\n",
        "\t# Select good points\n",
        "\tgood_new = p1[st == 1]\n",
        "\tgood_old = p0[st == 1]\n",
        "\n",
        "\t# draw the tracks\n",
        "\tfor i, (new, old) in enumerate(zip(good_new,\n",
        "\t\t\t\t\t\t\t\t\tgood_old)):\n",
        "\t\ta, b = new.ravel()\n",
        "\t\tc, d = old.ravel()\n",
        "\t\tmask = cv2.line(mask, (a, b), (c, d),\n",
        "\t\t\t\t\t\tcolor[i].tolist(), 2)\n",
        "\t\t\n",
        "\t\tframe = cv2.circle(frame, (a, b), 5,\n",
        "\t\t\t\t\t\tcolor[i].tolist(), -1)\n",
        "\t\t\n",
        "\timg = cv2.add(frame, mask)\n",
        "\n",
        "\tcv2_imshow(img)\n",
        "\t\n",
        "\tk = cv2.waitKey(25)\n",
        "\tif k == 27:\n",
        "\t\tbreak\n",
        "\n",
        "\t# Updating Previous frame and points\n",
        "\told_gray = frame_gray.copy()\n",
        "\tp0 = good_new.reshape(-1, 1, 2)\n",
        "\n",
        "cv2.destroyAllWindows()\n",
        "cap.release()\n"
      ],
      "metadata": {
        "id": "_VlL3rVDQC2-"
      },
      "execution_count": null,
      "outputs": []
    },
    {
      "cell_type": "markdown",
      "source": [
        " **FAST**"
      ],
      "metadata": {
        "id": "nA49Rw2h5oqi"
      }
    },
    {
      "cell_type": "code",
      "source": [
        "import cv2 as cv2\n",
        "import numpy as np\n",
        "from google.colab.patches import cv2_imshow\n",
        "\n",
        "cap = cv2.VideoCapture('/content/drive/MyDrive/CV Lab Optical Flow/Road Traffic - Noisy Image/FAST.mp4')\n",
        "\n",
        "# params for corner detection\n",
        "feature_params = dict( maxCorners = 100,\n",
        "\t\t\t\t\tqualityLevel = 0.3,\n",
        "\t\t\t\t\tminDistance = 7,\n",
        "\t\t\t\t\tblockSize = 7 )\n",
        "\n",
        "# Parameters for lucas kanade optical flow\n",
        "lk_params = dict( winSize = (15, 15),\n",
        "\t\t\t\tmaxLevel = 2,\n",
        "\t\t\t\tcriteria = (cv2.TERM_CRITERIA_EPS | cv2.TERM_CRITERIA_COUNT,\n",
        "\t\t\t\t\t\t\t10, 0.03))\n",
        "\n",
        "# Create some random colors\n",
        "color = np.random.randint(0, 255, (100, 3))\n",
        "\n",
        "# Take first frame and find corners in it\n",
        "ret, old_frame = cap.read()\n",
        "old_gray = cv2.cvtColor(old_frame,\n",
        "\t\t\t\t\t\tcv2.COLOR_BGR2GRAY)\n",
        "p0 = cv2.goodFeaturesToTrack(old_gray, mask = None,\n",
        "\t\t\t\t\t\t\t**feature_params)\n",
        "\n",
        "# Create a mask image for drawing purposes\n",
        "mask = np.zeros_like(old_frame)\n",
        "\n",
        "while(1):\n",
        "\t\n",
        "\tret, frame = cap.read()\n",
        "\tframe_gray = cv2.cvtColor(frame,\n",
        "\t\t\t\t\t\t\tcv2.COLOR_BGR2GRAY)\n",
        "\n",
        "\t# calculate optical flow\n",
        "\tp1, st, err = cv2.calcOpticalFlowPyrLK(old_gray,\n",
        "\t\t\t\t\t\t\t\t\t\tframe_gray,\n",
        "\t\t\t\t\t\t\t\t\t\tp0, None,\n",
        "\t\t\t\t\t\t\t\t\t\t**lk_params)\n",
        "\n",
        "\t# Select good points\n",
        "\tgood_new = p1[st == 1]\n",
        "\tgood_old = p0[st == 1]\n",
        "\n",
        "\t# draw the tracks\n",
        "\tfor i, (new, old) in enumerate(zip(good_new,\n",
        "\t\t\t\t\t\t\t\t\tgood_old)):\n",
        "\t\ta, b = new.ravel()\n",
        "\t\tc, d = old.ravel()\n",
        "\t\tmask = cv2.line(mask, (a, b), (c, d),\n",
        "\t\t\t\t\t\tcolor[i].tolist(), 2)\n",
        "\t\t\n",
        "\t\tframe = cv2.circle(frame, (a, b), 5,\n",
        "\t\t\t\t\t\tcolor[i].tolist(), -1)\n",
        "\t\t\n",
        "\timg = cv2.add(frame, mask)\n",
        "\n",
        "\tcv2_imshow(img)\n",
        "\t\n",
        "\tk = cv2.waitKey(25)\n",
        "\tif k == 27:\n",
        "\t\tbreak\n",
        "\n",
        "\t# Updating Previous frame and points\n",
        "\told_gray = frame_gray.copy()\n",
        "\tp0 = good_new.reshape(-1, 1, 2)\n",
        "\n",
        "cv2.destroyAllWindows()\n",
        "cap.release()\n"
      ],
      "metadata": {
        "id": "ag_m0UkM5cji"
      },
      "execution_count": null,
      "outputs": []
    },
    {
      "cell_type": "markdown",
      "source": [
        " **SLOW**"
      ],
      "metadata": {
        "id": "F0uyahmt5kqd"
      }
    },
    {
      "cell_type": "code",
      "source": [
        "import cv2 as cv\n",
        "import numpy as np\n",
        "from google.colab.patches import cv2_imshow\n",
        "\n",
        "cap = cv2.VideoCapture('/content/drive/MyDrive/CV Lab Optical Flow/Road Traffic - Noisy Image/SLOW.mp4')\n",
        "\n",
        "# params for corner detection\n",
        "feature_params = dict( maxCorners = 100,\n",
        "\t\t\t\t\tqualityLevel = 0.3,\n",
        "\t\t\t\t\tminDistance = 7,\n",
        "\t\t\t\t\tblockSize = 7 )\n",
        "\n",
        "# Parameters for lucas kanade optical flow\n",
        "lk_params = dict( winSize = (15, 15),\n",
        "\t\t\t\tmaxLevel = 2,\n",
        "\t\t\t\tcriteria = (cv2.TERM_CRITERIA_EPS | cv2.TERM_CRITERIA_COUNT,\n",
        "\t\t\t\t\t\t\t10, 0.03))\n",
        "\n",
        "# Create some random colors\n",
        "color = np.random.randint(0, 255, (100, 3))\n",
        "\n",
        "# Take first frame and find corners in it\n",
        "ret, old_frame = cap.read()\n",
        "old_gray = cv2.cvtColor(old_frame,\n",
        "\t\t\t\t\t\tcv2.COLOR_BGR2GRAY)\n",
        "p0 = cv2.goodFeaturesToTrack(old_gray, mask = None,\n",
        "\t\t\t\t\t\t\t**feature_params)\n",
        "\n",
        "# Create a mask image for drawing purposes\n",
        "mask = np.zeros_like(old_frame)\n",
        "\n",
        "while(1):\n",
        "\t\n",
        "\tret, frame = cap.read()\n",
        "\tframe_gray = cv2.cvtColor(frame,\n",
        "\t\t\t\t\t\t\tcv2.COLOR_BGR2GRAY)\n",
        "\n",
        "\t# calculate optical flow\n",
        "\tp1, st, err = cv2.calcOpticalFlowPyrLK(old_gray,\n",
        "\t\t\t\t\t\t\t\t\t\tframe_gray,\n",
        "\t\t\t\t\t\t\t\t\t\tp0, None,\n",
        "\t\t\t\t\t\t\t\t\t\t**lk_params)\n",
        "\n",
        "\t# Select good points\n",
        "\tgood_new = p1[st == 1]\n",
        "\tgood_old = p0[st == 1]\n",
        "\n",
        "\t# draw the tracks\n",
        "\tfor i, (new, old) in enumerate(zip(good_new,\n",
        "\t\t\t\t\t\t\t\t\tgood_old)):\n",
        "\t\ta, b = new.ravel()\n",
        "\t\tc, d = old.ravel()\n",
        "\t\tmask = cv2.line(mask, (a, b), (c, d),\n",
        "\t\t\t\t\t\tcolor[i].tolist(), 2)\n",
        "\t\t\n",
        "\t\tframe = cv2.circle(frame, (a, b), 5,\n",
        "\t\t\t\t\t\tcolor[i].tolist(), -1)\n",
        "\t\t\n",
        "\timg = cv2.add(frame, mask)\n",
        "\n",
        "\tcv2_imshow(img)\n",
        "\t\n",
        "\tk = cv2.waitKey(25)\n",
        "\tif k == 27:\n",
        "\t\tbreak\n",
        "\n",
        "\t# Updating Previous frame and points\n",
        "\told_gray = frame_gray.copy()\n",
        "\tp0 = good_new.reshape(-1, 1, 2)\n",
        "\n",
        "cv2.destroyAllWindows()\n",
        "cap.release()\n"
      ],
      "metadata": {
        "id": "uGLmuq585dv_"
      },
      "execution_count": null,
      "outputs": []
    },
    {
      "cell_type": "markdown",
      "source": [
        "# **HORN - SCHUNCK**"
      ],
      "metadata": {
        "id": "mgXOib8XZLt-"
      }
    },
    {
      "cell_type": "code",
      "source": [
        "img1 = cv2.imread('/content/drive/MyDrive/Drive/FALL 1.png')\n",
        "img1 = cv2.cvtColor(img1,cv2.COLOR_BGR2RGB)\n",
        "img2= cv2.imread('/content/drive/MyDrive/Drive/FALL 2.png')\n",
        "img2 = cv2.cvtColor(img2,cv2.COLOR_BGR2RGB)"
      ],
      "metadata": {
        "id": "rRWuD59SZLbu"
      },
      "execution_count": null,
      "outputs": []
    },
    {
      "cell_type": "code",
      "source": [
        "img1.shape"
      ],
      "metadata": {
        "id": "-IyfXDQGf6HO",
        "colab": {
          "base_uri": "https://localhost:8080/"
        },
        "outputId": "d83581bc-59e5-47e1-eed1-ce869eaa1208"
      },
      "execution_count": null,
      "outputs": [
        {
          "output_type": "execute_result",
          "data": {
            "text/plain": [
              "(240, 320, 3)"
            ]
          },
          "metadata": {},
          "execution_count": 5
        }
      ]
    },
    {
      "cell_type": "code",
      "source": [
        "img2.shape"
      ],
      "metadata": {
        "id": "DieJq138f72F",
        "colab": {
          "base_uri": "https://localhost:8080/"
        },
        "outputId": "d481fbcb-cdd9-42aa-bb6f-c51a96dc25e7"
      },
      "execution_count": null,
      "outputs": [
        {
          "output_type": "execute_result",
          "data": {
            "text/plain": [
              "(240, 320, 3)"
            ]
          },
          "metadata": {},
          "execution_count": 6
        }
      ]
    },
    {
      "cell_type": "code",
      "source": [
        "img1 = cv2.resize(img1, (640, 320))\n",
        "img2 = cv2.resize(img2, (640, 320))\n",
        "M = np.zeros((2,3), dtype = np.float32)"
      ],
      "metadata": {
        "id": "4Ku6HQYdf-G5"
      },
      "execution_count": null,
      "outputs": []
    },
    {
      "cell_type": "code",
      "source": [
        "import matplotlib.pyplot as plt\n",
        "from google.colab.patches import cv2_imshow\n",
        "plt.imshow(img1)"
      ],
      "metadata": {
        "id": "H6fpWGPEdDKs"
      },
      "execution_count": null,
      "outputs": []
    },
    {
      "cell_type": "code",
      "source": [
        "plt.imshow(img2)"
      ],
      "metadata": {
        "id": "5Y_UIaFjdFs0"
      },
      "execution_count": null,
      "outputs": []
    },
    {
      "cell_type": "code",
      "source": [
        "gray1 = cv2.cvtColor(img1, cv2.COLOR_BGR2GRAY)\n",
        "gray2 = cv2.cvtColor(img2, cv2.COLOR_BGR2GRAY)\n",
        "plt.imshow(gray1, cmap = 'gray')\n",
        "plt.imshow(gray2, cmap = 'gray')\n",
        "gray_diff = cv2.subtract(gray1, gray2)\n",
        "plt.imshow(gray_diff, cmap = 'gray')"
      ],
      "metadata": {
        "id": "xU73EdNvdP5k"
      },
      "execution_count": null,
      "outputs": []
    },
    {
      "cell_type": "code",
      "source": [
        "flow = cv2.calcOpticalFlowFarneback(gray1, gray2, None, 0.5, 5, 15,  3,  5,  1.2, 0)"
      ],
      "metadata": {
        "id": "ALl_UiTwd9Mq"
      },
      "execution_count": null,
      "outputs": []
    },
    {
      "cell_type": "code",
      "source": [
        "hsv = np.zeros( (320,640,3), dtype = np.uint8)\n",
        "hsv[...,1] = 255\n",
        "mag, ang = cv2.cartToPolar(flow[...,0], flow[...,1])\n",
        "hsv[...,0] = ang*180/np.pi/2\n",
        "hsv[...,2] = cv2.normalize(mag,None,0,255,cv2.NORM_MINMAX)\n",
        "rgb = cv2.cvtColor(hsv,cv2.COLOR_HSV2BGR)\n",
        "plt.imshow(rgb)"
      ],
      "metadata": {
        "id": "gB0CRokcdSG-"
      },
      "execution_count": null,
      "outputs": []
    }
  ]
}