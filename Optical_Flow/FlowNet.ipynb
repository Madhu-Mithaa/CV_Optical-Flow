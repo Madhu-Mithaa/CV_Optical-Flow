{
  "cells": [
    {
      "cell_type": "markdown",
      "source": [
        "# **Optical Flow using Flownet**"
      ],
      "metadata": {
        "id": "hMupLmXQrkhY"
      }
    },
    {
      "cell_type": "code",
      "execution_count": null,
      "metadata": {
        "id": "fTdu4i_qBeGU"
      },
      "outputs": [],
      "source": [
        "%tensorflow_version 1.x\n",
        "!pip3 install --quiet ml4a"
      ]
    },
    {
      "cell_type": "markdown",
      "metadata": {
        "id": "R4LQtNlDBeGW"
      },
      "source": [
        "## Get optical flow between images\n",
        "\n",
        "First we load two images, which happen to be consecutive frames of a movie. "
      ]
    },
    {
      "cell_type": "code",
      "source": [
        "from google.colab import drive\n",
        "drive.mount('/content/drive')"
      ],
      "metadata": {
        "colab": {
          "base_uri": "https://localhost:8080/"
        },
        "id": "Glae_NNYZx_M",
        "outputId": "9db7f1a2-dd92-42a0-8945-6c3743d87a20"
      },
      "execution_count": null,
      "outputs": [
        {
          "output_type": "stream",
          "name": "stdout",
          "text": [
            "Mounted at /content/drive\n"
          ]
        }
      ]
    },
    {
      "cell_type": "code",
      "execution_count": null,
      "metadata": {
        "id": "bmm9_562BeGX"
      },
      "outputs": [],
      "source": [
        "from ml4a import image\n",
        "\n",
        "# ml4a comes with these two sample images to demonstrate optical low\n",
        "img1 = image.load_image('/content/drive/MyDrive/frames0.jpg')\n",
        "img2 = image.load_image('/content/drive/MyDrive/frames7.jpg')\n",
        "\n",
        "image.display([img1, img2])"
      ]
    },
    {
      "cell_type": "code",
      "execution_count": null,
      "metadata": {
        "id": "WsZdbrfrBeGZ"
      },
      "outputs": [],
      "source": [
        "from ml4a.models import flownet\n",
        "\n",
        "# get flow from img1 to img2\n",
        "flow = flownet.run(img1, img2) \n",
        "\n",
        "# blurring the flow reduces any high-frequency noise in the raw flowmap\n",
        "flow = flownet.blur(flow, blur_times=5)"
      ]
    },
    {
      "cell_type": "markdown",
      "metadata": {
        "id": "pBOCpyxDBeGa"
      },
      "source": [
        "It's easier to visualize the flowmap if we map it to color. Then we can display it."
      ]
    },
    {
      "cell_type": "code",
      "execution_count": null,
      "metadata": {
        "id": "rZvPpBkJBeGe"
      },
      "outputs": [],
      "source": [
        "rgb_flow = flownet.run(img1, img2, to_rgb=True) \n",
        "image.display(rgb_flow)"
      ]
    },
    {
      "cell_type": "markdown",
      "metadata": {
        "id": "qE5F8l-_BeGh"
      },
      "source": [
        "One way to see what the optical flow does is to use the flowmap on one of the images to reconstruct the other. We can do that with `canvas.map_image`."
      ]
    },
    {
      "cell_type": "code",
      "execution_count": null,
      "metadata": {
        "id": "Nfp7vcJOBeGi"
      },
      "outputs": [],
      "source": [
        "from ml4a.canvas import canvas\n",
        "\n",
        "mapping_1to2 = flownet.flow_to_mapping(-flow)\n",
        "mapping_2to1 = flownet.flow_to_mapping(flow)\n",
        "\n",
        "img2_reconstructed = canvas.map_image(img1, mapping_1to2)\n",
        "img1_reconstructed = canvas.map_image(img2, mapping_2to1)\n",
        "\n",
        "image.display(img2, title=\"image 2\")\n",
        "image.display(img2_reconstructed, title=\"image 2 reconstructed from image 1 + flow\")\n"
      ]
    }
  ],
  "metadata": {
    "kernelspec": {
      "display_name": "Python 3",
      "language": "python",
      "name": "python3"
    },
    "language_info": {
      "codemirror_mode": {
        "name": "ipython",
        "version": 3
      },
      "file_extension": ".py",
      "mimetype": "text/x-python",
      "name": "python",
      "nbconvert_exporter": "python",
      "pygments_lexer": "ipython3",
      "version": "3.6.9"
    },
    "colab": {
      "name": "FlowNetPytorch fer.ipynb",
      "provenance": [],
      "collapsed_sections": []
    },
    "accelerator": "GPU",
    "gpuClass": "standard"
  },
  "nbformat": 4,
  "nbformat_minor": 0
}